{
 "cells": [
  {
   "cell_type": "markdown",
   "id": "710d5ad9",
   "metadata": {},
   "source": [
    "Question: 3 \n",
    "\n",
    "Perform Regression Task using ANN"
   ]
  },
  {
   "cell_type": "markdown",
   "id": "e3d65c08",
   "metadata": {},
   "source": [
    "here's some Python code using the TensorFlow library that demonstrates a simple ANN for a regression task with a small dataset:"
   ]
  },
  {
   "cell_type": "code",
   "execution_count": 12,
   "id": "a681fd3d",
   "metadata": {},
   "outputs": [],
   "source": [
    "import tensorflow as tf\n",
    "from tensorflow import keras\n",
    "from tensorflow.keras import Sequential\n",
    "from tensorflow.keras.layers import Dense,Flatten"
   ]
  },
  {
   "cell_type": "code",
   "execution_count": 13,
   "id": "009b66dd",
   "metadata": {},
   "outputs": [],
   "source": [
    "# Sample data: Temperature (Celsius) and Lemonade Sales (Dollars)\n",
    "data = [\n",
    "    (20, 10),  # 20°C, $10 sales\n",
    "    (25, 12),  # 25°C, $12 sales\n",
    "    (30, 15),  # 30°C, $15 sales\n",
    "    (15, 8),  # 15°C, $8 sales\n",
    "]"
   ]
  },
  {
   "cell_type": "code",
   "execution_count": 14,
   "id": "34fa5677",
   "metadata": {},
   "outputs": [
    {
     "data": {
      "text/plain": [
       "[(20, 10), (25, 12), (30, 15), (15, 8)]"
      ]
     },
     "execution_count": 14,
     "metadata": {},
     "output_type": "execute_result"
    }
   ],
   "source": [
    "data"
   ]
  },
  {
   "cell_type": "code",
   "execution_count": 15,
   "id": "9154ce9e",
   "metadata": {},
   "outputs": [],
   "source": [
    "# Convert data into NumPy arrays for easier handling\n",
    "inputs = tf.constant([d[0] for d in data])  # Input: Temperature\n",
    "outputs = tf.constant([d[1] for d in data])  # Output: Sales"
   ]
  },
  {
   "cell_type": "code",
   "execution_count": 16,
   "id": "d642a558",
   "metadata": {},
   "outputs": [
    {
     "data": {
      "text/plain": [
       "<tf.Tensor: shape=(4,), dtype=int32, numpy=array([20, 25, 30, 15])>"
      ]
     },
     "execution_count": 16,
     "metadata": {},
     "output_type": "execute_result"
    }
   ],
   "source": [
    "inputs"
   ]
  },
  {
   "cell_type": "code",
   "execution_count": 17,
   "id": "f9c171aa",
   "metadata": {},
   "outputs": [
    {
     "data": {
      "text/plain": [
       "<tf.Tensor: shape=(4,), dtype=int32, numpy=array([10, 12, 15,  8])>"
      ]
     },
     "execution_count": 17,
     "metadata": {},
     "output_type": "execute_result"
    }
   ],
   "source": [
    "outputs"
   ]
  },
  {
   "cell_type": "code",
   "execution_count": 21,
   "id": "920dae83",
   "metadata": {},
   "outputs": [],
   "source": [
    "# Define the ANN model\n",
    "ann = keras.Sequential([\n",
    "    keras.layers.Dense(units=4, activation='relu', input_shape=(1,)),  # Hidden layer 1 with 4 neurons and ReLU activation\n",
    "    keras.layers.Dense(units=8, activation='relu'),  # Hidden layer 2 with 8 neurons and ReLU activation\n",
    "    keras.layers.Dense(units=1) \n",
    "])"
   ]
  },
  {
   "cell_type": "code",
   "execution_count": 22,
   "id": "d1765d15",
   "metadata": {},
   "outputs": [
    {
     "name": "stdout",
     "output_type": "stream",
     "text": [
      "WARNING:tensorflow:From C:\\Users\\DELL\\anaconda3\\envs\\condaEnv3JNB\\lib\\site-packages\\keras\\src\\optimizers\\__init__.py:309: The name tf.train.Optimizer is deprecated. Please use tf.compat.v1.train.Optimizer instead.\n",
      "\n"
     ]
    }
   ],
   "source": [
    "# Compile the model (specifies optimizer and loss function)\n",
    "ann.compile(optimizer='adam', loss='mse')  # Optimizer: Adam, Loss function: Mean Squared Error"
   ]
  },
  {
   "cell_type": "code",
   "execution_count": 23,
   "id": "656e48cd",
   "metadata": {
    "scrolled": false
   },
   "outputs": [
    {
     "name": "stdout",
     "output_type": "stream",
     "text": [
      "Epoch 1/100\n",
      "WARNING:tensorflow:From C:\\Users\\DELL\\anaconda3\\envs\\condaEnv3JNB\\lib\\site-packages\\keras\\src\\utils\\tf_utils.py:492: The name tf.ragged.RaggedTensorValue is deprecated. Please use tf.compat.v1.ragged.RaggedTensorValue instead.\n",
      "\n",
      "1/1 [==============================] - 1s 554ms/step - loss: 138.7242\n",
      "Epoch 2/100\n",
      "1/1 [==============================] - 0s 6ms/step - loss: 138.4269\n",
      "Epoch 3/100\n",
      "1/1 [==============================] - 0s 6ms/step - loss: 138.1338\n",
      "Epoch 4/100\n",
      "1/1 [==============================] - 0s 7ms/step - loss: 137.8450\n",
      "Epoch 5/100\n",
      "1/1 [==============================] - 0s 6ms/step - loss: 137.5603\n",
      "Epoch 6/100\n",
      "1/1 [==============================] - 0s 6ms/step - loss: 137.2800\n",
      "Epoch 7/100\n",
      "1/1 [==============================] - 0s 5ms/step - loss: 137.0040\n",
      "Epoch 8/100\n",
      "1/1 [==============================] - 0s 5ms/step - loss: 136.7324\n",
      "Epoch 9/100\n",
      "1/1 [==============================] - 0s 5ms/step - loss: 136.4651\n",
      "Epoch 10/100\n",
      "1/1 [==============================] - 0s 6ms/step - loss: 136.2022\n",
      "Epoch 11/100\n",
      "1/1 [==============================] - 0s 6ms/step - loss: 135.9436\n",
      "Epoch 12/100\n",
      "1/1 [==============================] - 0s 6ms/step - loss: 135.6894\n",
      "Epoch 13/100\n",
      "1/1 [==============================] - 0s 7ms/step - loss: 135.4396\n",
      "Epoch 14/100\n",
      "1/1 [==============================] - 0s 5ms/step - loss: 135.1941\n",
      "Epoch 15/100\n",
      "1/1 [==============================] - 0s 6ms/step - loss: 134.9529\n",
      "Epoch 16/100\n",
      "1/1 [==============================] - 0s 4ms/step - loss: 134.7159\n",
      "Epoch 17/100\n",
      "1/1 [==============================] - 0s 5ms/step - loss: 134.4832\n",
      "Epoch 18/100\n",
      "1/1 [==============================] - 0s 4ms/step - loss: 134.2545\n",
      "Epoch 19/100\n",
      "1/1 [==============================] - 0s 4ms/step - loss: 134.0299\n",
      "Epoch 20/100\n",
      "1/1 [==============================] - 0s 6ms/step - loss: 133.8092\n",
      "Epoch 21/100\n",
      "1/1 [==============================] - 0s 8ms/step - loss: 133.5924\n",
      "Epoch 22/100\n",
      "1/1 [==============================] - 0s 6ms/step - loss: 133.3793\n",
      "Epoch 23/100\n",
      "1/1 [==============================] - 0s 4ms/step - loss: 133.1699\n",
      "Epoch 24/100\n",
      "1/1 [==============================] - 0s 5ms/step - loss: 132.9639\n",
      "Epoch 25/100\n",
      "1/1 [==============================] - 0s 5ms/step - loss: 132.7613\n",
      "Epoch 26/100\n",
      "1/1 [==============================] - 0s 6ms/step - loss: 132.5618\n",
      "Epoch 27/100\n",
      "1/1 [==============================] - 0s 4ms/step - loss: 132.3653\n",
      "Epoch 28/100\n",
      "1/1 [==============================] - 0s 5ms/step - loss: 132.1717\n",
      "Epoch 29/100\n",
      "1/1 [==============================] - 0s 4ms/step - loss: 131.9806\n",
      "Epoch 30/100\n",
      "1/1 [==============================] - 0s 4ms/step - loss: 131.7920\n",
      "Epoch 31/100\n",
      "1/1 [==============================] - 0s 4ms/step - loss: 131.6055\n",
      "Epoch 32/100\n",
      "1/1 [==============================] - 0s 5ms/step - loss: 131.4209\n",
      "Epoch 33/100\n",
      "1/1 [==============================] - 0s 5ms/step - loss: 131.2380\n",
      "Epoch 34/100\n",
      "1/1 [==============================] - 0s 6ms/step - loss: 131.0565\n",
      "Epoch 35/100\n",
      "1/1 [==============================] - 0s 4ms/step - loss: 130.8762\n",
      "Epoch 36/100\n",
      "1/1 [==============================] - 0s 5ms/step - loss: 130.6967\n",
      "Epoch 37/100\n",
      "1/1 [==============================] - 0s 5ms/step - loss: 130.5178\n",
      "Epoch 38/100\n",
      "1/1 [==============================] - 0s 5ms/step - loss: 130.3391\n",
      "Epoch 39/100\n",
      "1/1 [==============================] - 0s 5ms/step - loss: 130.1604\n",
      "Epoch 40/100\n",
      "1/1 [==============================] - 0s 3ms/step - loss: 129.9814\n",
      "Epoch 41/100\n",
      "1/1 [==============================] - 0s 4ms/step - loss: 129.8017\n",
      "Epoch 42/100\n",
      "1/1 [==============================] - 0s 4ms/step - loss: 129.6210\n",
      "Epoch 43/100\n",
      "1/1 [==============================] - 0s 4ms/step - loss: 129.4391\n",
      "Epoch 44/100\n",
      "1/1 [==============================] - 0s 5ms/step - loss: 129.2556\n",
      "Epoch 45/100\n",
      "1/1 [==============================] - 0s 5ms/step - loss: 129.0702\n",
      "Epoch 46/100\n",
      "1/1 [==============================] - 0s 4ms/step - loss: 128.8826\n",
      "Epoch 47/100\n",
      "1/1 [==============================] - 0s 5ms/step - loss: 128.6926\n",
      "Epoch 48/100\n",
      "1/1 [==============================] - 0s 4ms/step - loss: 128.4998\n",
      "Epoch 49/100\n",
      "1/1 [==============================] - 0s 5ms/step - loss: 128.3040\n",
      "Epoch 50/100\n",
      "1/1 [==============================] - 0s 5ms/step - loss: 128.1050\n",
      "Epoch 51/100\n",
      "1/1 [==============================] - 0s 5ms/step - loss: 127.9025\n",
      "Epoch 52/100\n",
      "1/1 [==============================] - 0s 5ms/step - loss: 127.6963\n",
      "Epoch 53/100\n",
      "1/1 [==============================] - 0s 4ms/step - loss: 127.4861\n",
      "Epoch 54/100\n",
      "1/1 [==============================] - 0s 3ms/step - loss: 127.2719\n",
      "Epoch 55/100\n",
      "1/1 [==============================] - 0s 5ms/step - loss: 127.0532\n",
      "Epoch 56/100\n",
      "1/1 [==============================] - 0s 4ms/step - loss: 126.8301\n",
      "Epoch 57/100\n",
      "1/1 [==============================] - 0s 5ms/step - loss: 126.6023\n",
      "Epoch 58/100\n",
      "1/1 [==============================] - 0s 4ms/step - loss: 126.3697\n",
      "Epoch 59/100\n",
      "1/1 [==============================] - 0s 5ms/step - loss: 126.1321\n",
      "Epoch 60/100\n",
      "1/1 [==============================] - 0s 3ms/step - loss: 125.8895\n",
      "Epoch 61/100\n",
      "1/1 [==============================] - 0s 4ms/step - loss: 125.6416\n",
      "Epoch 62/100\n",
      "1/1 [==============================] - 0s 4ms/step - loss: 125.3884\n",
      "Epoch 63/100\n",
      "1/1 [==============================] - 0s 3ms/step - loss: 125.1297\n",
      "Epoch 64/100\n",
      "1/1 [==============================] - 0s 4ms/step - loss: 124.8655\n",
      "Epoch 65/100\n",
      "1/1 [==============================] - 0s 3ms/step - loss: 124.5957\n",
      "Epoch 66/100\n",
      "1/1 [==============================] - 0s 4ms/step - loss: 124.3203\n",
      "Epoch 67/100\n",
      "1/1 [==============================] - 0s 4ms/step - loss: 124.0390\n",
      "Epoch 68/100\n",
      "1/1 [==============================] - 0s 4ms/step - loss: 123.7518\n",
      "Epoch 69/100\n",
      "1/1 [==============================] - 0s 4ms/step - loss: 123.4588\n",
      "Epoch 70/100\n",
      "1/1 [==============================] - 0s 4ms/step - loss: 123.1598\n",
      "Epoch 71/100\n",
      "1/1 [==============================] - 0s 5ms/step - loss: 122.8547\n",
      "Epoch 72/100\n",
      "1/1 [==============================] - 0s 3ms/step - loss: 122.5436\n",
      "Epoch 73/100\n",
      "1/1 [==============================] - 0s 3ms/step - loss: 122.2263\n",
      "Epoch 74/100\n",
      "1/1 [==============================] - 0s 5ms/step - loss: 121.9029\n",
      "Epoch 75/100\n",
      "1/1 [==============================] - 0s 4ms/step - loss: 121.5732\n",
      "Epoch 76/100\n",
      "1/1 [==============================] - 0s 4ms/step - loss: 121.2373\n",
      "Epoch 77/100\n",
      "1/1 [==============================] - 0s 5ms/step - loss: 120.8951\n",
      "Epoch 78/100\n",
      "1/1 [==============================] - 0s 3ms/step - loss: 120.5467\n",
      "Epoch 79/100\n",
      "1/1 [==============================] - 0s 4ms/step - loss: 120.1918\n",
      "Epoch 80/100\n",
      "1/1 [==============================] - 0s 4ms/step - loss: 119.8307\n",
      "Epoch 81/100\n",
      "1/1 [==============================] - 0s 4ms/step - loss: 119.4632\n",
      "Epoch 82/100\n",
      "1/1 [==============================] - 0s 4ms/step - loss: 119.0893\n",
      "Epoch 83/100\n",
      "1/1 [==============================] - 0s 4ms/step - loss: 118.7090\n",
      "Epoch 84/100\n",
      "1/1 [==============================] - 0s 5ms/step - loss: 118.3223\n",
      "Epoch 85/100\n",
      "1/1 [==============================] - 0s 4ms/step - loss: 117.9292\n",
      "Epoch 86/100\n",
      "1/1 [==============================] - 0s 5ms/step - loss: 117.5296\n",
      "Epoch 87/100\n",
      "1/1 [==============================] - 0s 5ms/step - loss: 117.1237\n",
      "Epoch 88/100\n",
      "1/1 [==============================] - 0s 4ms/step - loss: 116.7113\n",
      "Epoch 89/100\n",
      "1/1 [==============================] - 0s 5ms/step - loss: 116.2926\n",
      "Epoch 90/100\n",
      "1/1 [==============================] - 0s 5ms/step - loss: 115.8674\n",
      "Epoch 91/100\n",
      "1/1 [==============================] - 0s 4ms/step - loss: 115.4358\n",
      "Epoch 92/100\n",
      "1/1 [==============================] - 0s 3ms/step - loss: 114.9978\n",
      "Epoch 93/100\n",
      "1/1 [==============================] - 0s 5ms/step - loss: 114.5534\n",
      "Epoch 94/100\n",
      "1/1 [==============================] - 0s 3ms/step - loss: 114.1030\n",
      "Epoch 95/100\n",
      "1/1 [==============================] - 0s 4ms/step - loss: 113.6463\n",
      "Epoch 96/100\n",
      "1/1 [==============================] - 0s 5ms/step - loss: 113.1833\n",
      "Epoch 97/100\n",
      "1/1 [==============================] - 0s 4ms/step - loss: 112.7141\n",
      "Epoch 98/100\n",
      "1/1 [==============================] - 0s 4ms/step - loss: 112.2385\n",
      "Epoch 99/100\n"
     ]
    },
    {
     "name": "stdout",
     "output_type": "stream",
     "text": [
      "1/1 [==============================] - 0s 5ms/step - loss: 111.7567\n",
      "Epoch 100/100\n",
      "1/1 [==============================] - 0s 3ms/step - loss: 111.2687\n"
     ]
    },
    {
     "data": {
      "text/plain": [
       "<keras.src.callbacks.History at 0x136b3626fb0>"
      ]
     },
     "execution_count": 23,
     "metadata": {},
     "output_type": "execute_result"
    }
   ],
   "source": [
    "# Train the model on the data\n",
    "ann.fit(inputs, outputs, epochs=100)  # Train for 100 epochs (iterations)"
   ]
  },
  {
   "cell_type": "code",
   "execution_count": 25,
   "id": "9a2c9978",
   "metadata": {},
   "outputs": [
    {
     "name": "stdout",
     "output_type": "stream",
     "text": [
      "1/1 [==============================] - 0s 82ms/step\n",
      "Predicted sales for 28°C: $1.19\n"
     ]
    }
   ],
   "source": [
    "# Make a prediction for a new temperature (e.g., 28°C)\n",
    "prediction = ann.predict(tf.constant([28]))[0][0]  # Get the first element from the prediction array\n",
    "print(f\"Predicted sales for 28°C: ${prediction:.2f}\")  # Format prediction with 2 decimal places"
   ]
  }
 ],
 "metadata": {
  "kernelspec": {
   "display_name": "Python 3 (ipykernel)",
   "language": "python",
   "name": "python3"
  },
  "language_info": {
   "codemirror_mode": {
    "name": "ipython",
    "version": 3
   },
   "file_extension": ".py",
   "mimetype": "text/x-python",
   "name": "python",
   "nbconvert_exporter": "python",
   "pygments_lexer": "ipython3",
   "version": "3.10.12"
  },
  "toc": {
   "base_numbering": 1,
   "nav_menu": {},
   "number_sections": true,
   "sideBar": true,
   "skip_h1_title": false,
   "title_cell": "Table of Contents",
   "title_sidebar": "Contents",
   "toc_cell": false,
   "toc_position": {},
   "toc_section_display": true,
   "toc_window_display": false
  }
 },
 "nbformat": 4,
 "nbformat_minor": 5
}
