{
 "cells": [
  {
   "cell_type": "markdown",
   "id": "a74053c6",
   "metadata": {},
   "source": [
    "Question: 3 \n",
    "\n",
    "Perform Regression Task using ANN"
   ]
  },
  {
   "cell_type": "markdown",
   "id": "4e93bf4b",
   "metadata": {},
   "source": [
    "here's some Python code using the TensorFlow library that demonstrates a simple ANN for a regression task with a small dataset:"
   ]
  },
  {
   "cell_type": "code",
   "execution_count": 31,
   "id": "307a8d82",
   "metadata": {},
   "outputs": [],
   "source": [
    "import pandas as pd\n",
    "import numpy as np\n",
    "data_url = \"http://lib.stat.cmu.edu/datasets/boston\""
   ]
  },
  {
   "cell_type": "code",
   "execution_count": 33,
   "id": "d17a1802",
   "metadata": {},
   "outputs": [],
   "source": [
    "raw_df = pd.read_csv(data_url, sep=\"\\s+\", skiprows=22, header=None)\n",
    "X = np.hstack([raw_df.values[::2, :], raw_df.values[1::2, :2]])\n",
    "y = raw_df.values[1::2, 2]"
   ]
  },
  {
   "cell_type": "code",
   "execution_count": 154,
   "id": "78c6bbfb-57e7-4773-986a-0b67486b617a",
   "metadata": {},
   "outputs": [],
   "source": [
    "# Load the Boston Housing Prices dataset\n",
    "# boston = load_boston()\n",
    "X = boston.data\n",
    "y = boston.target"
   ]
  },
  {
   "cell_type": "code",
   "execution_count": 34,
   "id": "f15aeba5-546f-4e34-b491-5c54335fab8f",
   "metadata": {},
   "outputs": [],
   "source": [
    "# Split the dataset into training and testing sets\n",
    "X_train, X_test, y_train, y_test = train_test_split(X, y, test_size=0.2, random_state=42)"
   ]
  },
  {
   "cell_type": "code",
   "execution_count": 35,
   "id": "c9893f8c-203a-4658-8e1d-05fab763383c",
   "metadata": {},
   "outputs": [],
   "source": [
    "# Standardize the data\n",
    "scaler = StandardScaler()\n",
    "X_train = scaler.fit_transform(X_train)\n",
    "X_test = scaler.transform(X_test)"
   ]
  },
  {
   "cell_type": "code",
   "execution_count": 36,
   "id": "b47386a2-e9c5-4d62-8997-26b9a3009efd",
   "metadata": {},
   "outputs": [],
   "source": [
    "# Build the ANN model\n",
    "model = Sequential()\n",
    "model.add(Dense(64, input_dim=X_train.shape[1], activation='relu'))\n",
    "model.add(Dense(32, activation='relu'))\n",
    "model.add(Dense(1, activation='linear'))"
   ]
  },
  {
   "cell_type": "code",
   "execution_count": 37,
   "id": "2ec31149-e4d9-4d7b-bd47-e312da531bb4",
   "metadata": {},
   "outputs": [],
   "source": [
    "# Compile the model\n",
    "model.compile(optimizer='adam', loss='mean_squared_error')"
   ]
  },
  {
   "cell_type": "code",
   "execution_count": 38,
   "id": "0691864e",
   "metadata": {},
   "outputs": [
    {
     "name": "stdout",
     "output_type": "stream",
     "text": [
      "Epoch 1/100\n",
      "13/13 [==============================] - 0s 2ms/step - loss: 593.5173\n",
      "Epoch 2/100\n",
      "13/13 [==============================] - 0s 2ms/step - loss: 548.2571\n",
      "Epoch 3/100\n",
      "13/13 [==============================] - 0s 2ms/step - loss: 495.7992\n",
      "Epoch 4/100\n",
      "13/13 [==============================] - 0s 2ms/step - loss: 429.8696\n",
      "Epoch 5/100\n",
      "13/13 [==============================] - 0s 2ms/step - loss: 349.8809\n",
      "Epoch 6/100\n",
      "13/13 [==============================] - 0s 2ms/step - loss: 263.7013\n",
      "Epoch 7/100\n",
      "13/13 [==============================] - 0s 2ms/step - loss: 183.2644\n",
      "Epoch 8/100\n",
      "13/13 [==============================] - 0s 2ms/step - loss: 123.7121\n",
      "Epoch 9/100\n",
      "13/13 [==============================] - 0s 2ms/step - loss: 88.2604\n",
      "Epoch 10/100\n",
      "13/13 [==============================] - 0s 2ms/step - loss: 66.9263\n",
      "Epoch 11/100\n",
      "13/13 [==============================] - 0s 2ms/step - loss: 52.7699\n",
      "Epoch 12/100\n",
      "13/13 [==============================] - 0s 2ms/step - loss: 41.7653\n",
      "Epoch 13/100\n",
      "13/13 [==============================] - 0s 2ms/step - loss: 34.7976\n",
      "Epoch 14/100\n",
      "13/13 [==============================] - 0s 2ms/step - loss: 30.7702\n",
      "Epoch 15/100\n",
      "13/13 [==============================] - 0s 2ms/step - loss: 27.7592\n",
      "Epoch 16/100\n",
      "13/13 [==============================] - 0s 2ms/step - loss: 25.7769\n",
      "Epoch 17/100\n",
      "13/13 [==============================] - 0s 2ms/step - loss: 24.1381\n",
      "Epoch 18/100\n",
      "13/13 [==============================] - 0s 2ms/step - loss: 22.9218\n",
      "Epoch 19/100\n",
      "13/13 [==============================] - 0s 2ms/step - loss: 21.8943\n",
      "Epoch 20/100\n",
      "13/13 [==============================] - 0s 2ms/step - loss: 20.7825\n",
      "Epoch 21/100\n",
      "13/13 [==============================] - 0s 2ms/step - loss: 19.8905\n",
      "Epoch 22/100\n",
      "13/13 [==============================] - 0s 2ms/step - loss: 19.1810\n",
      "Epoch 23/100\n",
      "13/13 [==============================] - 0s 2ms/step - loss: 18.5489\n",
      "Epoch 24/100\n",
      "13/13 [==============================] - 0s 2ms/step - loss: 18.0522\n",
      "Epoch 25/100\n",
      "13/13 [==============================] - 0s 2ms/step - loss: 17.3563\n",
      "Epoch 26/100\n",
      "13/13 [==============================] - 0s 2ms/step - loss: 16.9031\n",
      "Epoch 27/100\n",
      "13/13 [==============================] - 0s 2ms/step - loss: 16.3819\n",
      "Epoch 28/100\n",
      "13/13 [==============================] - 0s 2ms/step - loss: 16.0331\n",
      "Epoch 29/100\n",
      "13/13 [==============================] - 0s 2ms/step - loss: 15.6257\n",
      "Epoch 30/100\n",
      "13/13 [==============================] - 0s 2ms/step - loss: 15.2197\n",
      "Epoch 31/100\n",
      "13/13 [==============================] - 0s 2ms/step - loss: 14.9392\n",
      "Epoch 32/100\n",
      "13/13 [==============================] - 0s 2ms/step - loss: 14.6449\n",
      "Epoch 33/100\n",
      "13/13 [==============================] - 0s 2ms/step - loss: 14.2921\n",
      "Epoch 34/100\n",
      "13/13 [==============================] - 0s 2ms/step - loss: 14.0395\n",
      "Epoch 35/100\n",
      "13/13 [==============================] - 0s 2ms/step - loss: 13.7710\n",
      "Epoch 36/100\n",
      "13/13 [==============================] - 0s 2ms/step - loss: 13.5133\n",
      "Epoch 37/100\n",
      "13/13 [==============================] - 0s 2ms/step - loss: 13.2805\n",
      "Epoch 38/100\n",
      "13/13 [==============================] - 0s 2ms/step - loss: 13.0825\n",
      "Epoch 39/100\n",
      "13/13 [==============================] - 0s 2ms/step - loss: 12.9180\n",
      "Epoch 40/100\n",
      "13/13 [==============================] - 0s 2ms/step - loss: 12.7080\n",
      "Epoch 41/100\n",
      "13/13 [==============================] - 0s 2ms/step - loss: 12.5320\n",
      "Epoch 42/100\n",
      "13/13 [==============================] - 0s 2ms/step - loss: 12.3683\n",
      "Epoch 43/100\n",
      "13/13 [==============================] - 0s 3ms/step - loss: 12.2007\n",
      "Epoch 44/100\n",
      "13/13 [==============================] - 0s 2ms/step - loss: 12.0737\n",
      "Epoch 45/100\n",
      "13/13 [==============================] - 0s 2ms/step - loss: 12.0547\n",
      "Epoch 46/100\n",
      "13/13 [==============================] - 0s 2ms/step - loss: 11.7300\n",
      "Epoch 47/100\n",
      "13/13 [==============================] - 0s 2ms/step - loss: 11.6376\n",
      "Epoch 48/100\n",
      "13/13 [==============================] - 0s 2ms/step - loss: 11.5421\n",
      "Epoch 49/100\n",
      "13/13 [==============================] - 0s 2ms/step - loss: 11.4682\n",
      "Epoch 50/100\n",
      "13/13 [==============================] - 0s 2ms/step - loss: 11.3054\n",
      "Epoch 51/100\n",
      "13/13 [==============================] - 0s 2ms/step - loss: 11.1933\n",
      "Epoch 52/100\n",
      "13/13 [==============================] - 0s 2ms/step - loss: 11.1193\n",
      "Epoch 53/100\n",
      "13/13 [==============================] - 0s 2ms/step - loss: 10.9481\n",
      "Epoch 54/100\n",
      "13/13 [==============================] - 0s 2ms/step - loss: 10.9160\n",
      "Epoch 55/100\n",
      "13/13 [==============================] - 0s 2ms/step - loss: 10.7779\n",
      "Epoch 56/100\n",
      "13/13 [==============================] - 0s 2ms/step - loss: 10.6686\n",
      "Epoch 57/100\n",
      "13/13 [==============================] - 0s 2ms/step - loss: 10.5910\n",
      "Epoch 58/100\n",
      "13/13 [==============================] - 0s 2ms/step - loss: 10.4950\n",
      "Epoch 59/100\n",
      "13/13 [==============================] - 0s 2ms/step - loss: 10.4274\n",
      "Epoch 60/100\n",
      "13/13 [==============================] - 0s 2ms/step - loss: 10.3834\n",
      "Epoch 61/100\n",
      "13/13 [==============================] - 0s 2ms/step - loss: 10.2701\n",
      "Epoch 62/100\n",
      "13/13 [==============================] - 0s 2ms/step - loss: 10.1942\n",
      "Epoch 63/100\n",
      "13/13 [==============================] - 0s 2ms/step - loss: 10.0974\n",
      "Epoch 64/100\n",
      "13/13 [==============================] - 0s 2ms/step - loss: 10.0770\n",
      "Epoch 65/100\n",
      "13/13 [==============================] - 0s 2ms/step - loss: 10.0244\n",
      "Epoch 66/100\n",
      "13/13 [==============================] - 0s 2ms/step - loss: 9.9527\n",
      "Epoch 67/100\n",
      "13/13 [==============================] - 0s 2ms/step - loss: 9.8680\n",
      "Epoch 68/100\n",
      "13/13 [==============================] - 0s 2ms/step - loss: 9.8461\n",
      "Epoch 69/100\n",
      "13/13 [==============================] - 0s 2ms/step - loss: 9.7002\n",
      "Epoch 70/100\n",
      "13/13 [==============================] - 0s 2ms/step - loss: 9.8012\n",
      "Epoch 71/100\n",
      "13/13 [==============================] - 0s 2ms/step - loss: 9.5318\n",
      "Epoch 72/100\n",
      "13/13 [==============================] - 0s 2ms/step - loss: 9.5750\n",
      "Epoch 73/100\n",
      "13/13 [==============================] - 0s 2ms/step - loss: 9.5047\n",
      "Epoch 74/100\n",
      "13/13 [==============================] - 0s 2ms/step - loss: 9.3993\n",
      "Epoch 75/100\n",
      "13/13 [==============================] - 0s 2ms/step - loss: 9.3720\n",
      "Epoch 76/100\n",
      "13/13 [==============================] - 0s 2ms/step - loss: 9.3733\n",
      "Epoch 77/100\n",
      "13/13 [==============================] - 0s 2ms/step - loss: 9.3565\n",
      "Epoch 78/100\n",
      "13/13 [==============================] - 0s 1ms/step - loss: 9.2029\n",
      "Epoch 79/100\n",
      "13/13 [==============================] - 0s 2ms/step - loss: 9.1452\n",
      "Epoch 80/100\n",
      "13/13 [==============================] - 0s 1ms/step - loss: 9.1520\n",
      "Epoch 81/100\n",
      "13/13 [==============================] - 0s 2ms/step - loss: 9.0376\n",
      "Epoch 82/100\n",
      "13/13 [==============================] - 0s 2ms/step - loss: 8.9709\n",
      "Epoch 83/100\n",
      "13/13 [==============================] - 0s 2ms/step - loss: 8.9291\n",
      "Epoch 84/100\n",
      "13/13 [==============================] - 0s 2ms/step - loss: 8.8523\n",
      "Epoch 85/100\n",
      "13/13 [==============================] - 0s 2ms/step - loss: 8.9422\n",
      "Epoch 86/100\n",
      "13/13 [==============================] - 0s 2ms/step - loss: 8.7608\n",
      "Epoch 87/100\n",
      "13/13 [==============================] - 0s 2ms/step - loss: 8.7991\n",
      "Epoch 88/100\n",
      "13/13 [==============================] - 0s 1ms/step - loss: 8.6958\n",
      "Epoch 89/100\n",
      "13/13 [==============================] - 0s 2ms/step - loss: 8.5570\n",
      "Epoch 90/100\n",
      "13/13 [==============================] - 0s 2ms/step - loss: 8.5853\n",
      "Epoch 91/100\n",
      "13/13 [==============================] - 0s 2ms/step - loss: 8.6198\n",
      "Epoch 92/100\n",
      "13/13 [==============================] - 0s 2ms/step - loss: 8.5116\n",
      "Epoch 93/100\n",
      "13/13 [==============================] - 0s 2ms/step - loss: 8.4138\n",
      "Epoch 94/100\n",
      "13/13 [==============================] - 0s 2ms/step - loss: 8.4351\n",
      "Epoch 95/100\n",
      "13/13 [==============================] - 0s 2ms/step - loss: 8.2942\n",
      "Epoch 96/100\n",
      "13/13 [==============================] - 0s 2ms/step - loss: 8.2777\n",
      "Epoch 97/100\n",
      "13/13 [==============================] - 0s 2ms/step - loss: 8.2510\n",
      "Epoch 98/100\n",
      "13/13 [==============================] - 0s 2ms/step - loss: 8.1932\n",
      "Epoch 99/100\n",
      "13/13 [==============================] - 0s 2ms/step - loss: 8.1766\n",
      "Epoch 100/100\n",
      "13/13 [==============================] - 0s 2ms/step - loss: 8.1080\n"
     ]
    },
    {
     "data": {
      "text/plain": [
       "<keras.src.callbacks.History at 0x136b93a2cb0>"
      ]
     },
     "execution_count": 38,
     "metadata": {},
     "output_type": "execute_result"
    }
   ],
   "source": [
    "# Train the model\n",
    "model.fit(X_train, y_train, epochs=100, batch_size=32, verbose=1)"
   ]
  },
  {
   "cell_type": "code",
   "execution_count": 39,
   "id": "2e343b08",
   "metadata": {},
   "outputs": [
    {
     "name": "stdout",
     "output_type": "stream",
     "text": [
      "Mean Squared Error on Test Set: 12.397953987121582\n"
     ]
    }
   ],
   "source": [
    "# Evaluate the model on the test set\n",
    "loss = model.evaluate(X_test, y_test, verbose=0)\n",
    "print(f'Mean Squared Error on Test Set: {loss}')"
   ]
  },
  {
   "cell_type": "code",
   "execution_count": 40,
   "id": "9398491f",
   "metadata": {},
   "outputs": [
    {
     "name": "stdout",
     "output_type": "stream",
     "text": [
      "4/4 [==============================] - 0s 2ms/step\n"
     ]
    }
   ],
   "source": [
    "# Make predictions\n",
    "predictions = model.predict(X_test)"
   ]
  },
  {
   "cell_type": "code",
   "execution_count": 42,
   "id": "1bd35196",
   "metadata": {},
   "outputs": [],
   "source": [
    "from sklearn.metrics import mean_absolute_error, mean_squared_error, r2_score"
   ]
  },
  {
   "cell_type": "code",
   "execution_count": 43,
   "id": "72a1c5ef",
   "metadata": {},
   "outputs": [
    {
     "name": "stdout",
     "output_type": "stream",
     "text": [
      "Mean Squared Error: 12.397955018420145\n",
      "R^2 Score: 0.8309380140485099\n"
     ]
    }
   ],
   "source": [
    "mse = mean_squared_error(y_test, predictions)\n",
    "r2 = r2_score(y_test, predictions)\n",
    "\n",
    "print(f'Mean Squared Error: {mse}')\n",
    "print(f'R^2 Score: {r2}')"
   ]
  },
  {
   "cell_type": "code",
   "execution_count": 44,
   "id": "8dbd51c0",
   "metadata": {},
   "outputs": [
    {
     "data": {
      "image/png": "[encoded data removed]",
      "text/plain": [
       "<Figure size 640x480 with 1 Axes>"
      ]
     },
     "metadata": {},
     "output_type": "display_data"
    }
   ],
   "source": [
    "# Plot actual vs. predicted values\n",
    "plt.scatter(y_test, predictions)\n",
    "plt.xlabel('True Values')\n",
    "plt.ylabel('Predictions')\n",
    "plt.show()"
   ]
  }
 ],
 "metadata": {
  "kernelspec": {
   "display_name": "Python 3 (ipykernel)",
   "language": "python",
   "name": "python3"
  },
  "language_info": {
   "codemirror_mode": {
    "name": "ipython",
    "version": 3
   },
   "file_extension": ".py",
   "mimetype": "text/x-python",
   "name": "python",
   "nbconvert_exporter": "python",
   "pygments_lexer": "ipython3",
   "version": "3.10.12"
  },
  "toc": {
   "base_numbering": 1,
   "nav_menu": {},
   "number_sections": true,
   "sideBar": true,
   "skip_h1_title": false,
   "title_cell": "Table of Contents",
   "title_sidebar": "Contents",
   "toc_cell": false,
   "toc_position": {},
   "toc_section_display": true,
   "toc_window_display": false
  }
 },
 "nbformat": 4,
 "nbformat_minor": 5
}
