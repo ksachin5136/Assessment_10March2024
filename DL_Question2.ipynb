{
 "cells": [
  {
   "cell_type": "markdown",
   "id": "3bf296c0",
   "metadata": {},
   "source": [
    "Question: 2\n",
    "\n",
    "Train a Pure ANN with less than 10000 trainable parameters using the MNIST Dataset"
   ]
  },
  {
   "cell_type": "code",
   "execution_count": 1,
   "id": "089c95d9",
   "metadata": {
    "id": "pELLUNVzJWB6"
   },
   "outputs": [
    {
     "name": "stdout",
     "output_type": "stream",
     "text": [
      "WARNING:tensorflow:From C:\\Users\\DELL\\anaconda3\\envs\\condaEnv3JNB\\lib\\site-packages\\keras\\src\\losses.py:2976: The name tf.losses.sparse_softmax_cross_entropy is deprecated. Please use tf.compat.v1.losses.sparse_softmax_cross_entropy instead.\n",
      "\n"
     ]
    }
   ],
   "source": [
    "import tensorflow\n",
    "from tensorflow import keras\n",
    "from tensorflow.keras import Sequential\n",
    "from tensorflow.keras.layers import Dense,Flatten"
   ]
  },
  {
   "cell_type": "markdown",
   "id": "bc36af41",
   "metadata": {},
   "source": [
    "## Create Train and Test Data "
   ]
  },
  {
   "cell_type": "code",
   "execution_count": 2,
   "id": "c932e8d3",
   "metadata": {
    "colab": {
     "base_uri": "https://localhost:8080/"
    },
    "id": "KRTH93VyMYF7",
    "outputId": "3eb9c725-d517-430e-9660-af4cc9600e8e"
   },
   "outputs": [
    {
     "name": "stdout",
     "output_type": "stream",
     "text": [
      "Downloading data from https://storage.googleapis.com/tensorflow/tf-keras-datasets/mnist.npz\n",
      "11490434/11490434 [==============================] - 3s 0us/step\n"
     ]
    }
   ],
   "source": [
    "(X_train,y_train),(X_test,y_test) = keras.datasets.mnist.load_data()"
   ]
  },
  {
   "cell_type": "code",
   "execution_count": 6,
   "id": "b8acfeb1",
   "metadata": {},
   "outputs": [
    {
     "data": {
      "text/plain": [
       "array([[  0,   0,   0,   0,   0,   0,   0,   0,   0,   0,   0,   0,   0,\n",
       "          0,   0,   0,   0,   0,   0,   0,   0,   0,   0,   0,   0,   0,\n",
       "          0,   0],\n",
       "       [  0,   0,   0,   0,   0,   0,   0,   0,   0,   0,   0,   0,   0,\n",
       "          0,   0,   0,   0,   0,   0,   0,   0,   0,   0,   0,   0,   0,\n",
       "          0,   0],\n",
       "       [  0,   0,   0,   0,   0,   0,   0,   0,   0,   0,   0,   0,   0,\n",
       "          0,   0,   0,   0,   0,   0,   0,   0,   0,   0,   0,   0,   0,\n",
       "          0,   0],\n",
       "       [  0,   0,   0,   0,   0,   0,   0,   0,   0,   0,   0,   0,   0,\n",
       "          0,   0,   0,   0,   0,   0,   0,   0,   0,   0,   0,   0,   0,\n",
       "          0,   0],\n",
       "       [  0,   0,   0,   0,   0,   0,   0,   0,   0,   0,   0,   0,   0,\n",
       "          0,   0,   0,   0,   0,   0,   0,   0,   0,   0,   0,   0,   0,\n",
       "          0,   0],\n",
       "       [  0,   0,   0,   0,   0,   0,   0,   0,   0,   0,   0,   0,   3,\n",
       "         18,  18,  18, 126, 136, 175,  26, 166, 255, 247, 127,   0,   0,\n",
       "          0,   0],\n",
       "       [  0,   0,   0,   0,   0,   0,   0,   0,  30,  36,  94, 154, 170,\n",
       "        253, 253, 253, 253, 253, 225, 172, 253, 242, 195,  64,   0,   0,\n",
       "          0,   0],\n",
       "       [  0,   0,   0,   0,   0,   0,   0,  49, 238, 253, 253, 253, 253,\n",
       "        253, 253, 253, 253, 251,  93,  82,  82,  56,  39,   0,   0,   0,\n",
       "          0,   0],\n",
       "       [  0,   0,   0,   0,   0,   0,   0,  18, 219, 253, 253, 253, 253,\n",
       "        253, 198, 182, 247, 241,   0,   0,   0,   0,   0,   0,   0,   0,\n",
       "          0,   0],\n",
       "       [  0,   0,   0,   0,   0,   0,   0,   0,  80, 156, 107, 253, 253,\n",
       "        205,  11,   0,  43, 154,   0,   0,   0,   0,   0,   0,   0,   0,\n",
       "          0,   0],\n",
       "       [  0,   0,   0,   0,   0,   0,   0,   0,   0,  14,   1, 154, 253,\n",
       "         90,   0,   0,   0,   0,   0,   0,   0,   0,   0,   0,   0,   0,\n",
       "          0,   0],\n",
       "       [  0,   0,   0,   0,   0,   0,   0,   0,   0,   0,   0, 139, 253,\n",
       "        190,   2,   0,   0,   0,   0,   0,   0,   0,   0,   0,   0,   0,\n",
       "          0,   0],\n",
       "       [  0,   0,   0,   0,   0,   0,   0,   0,   0,   0,   0,  11, 190,\n",
       "        253,  70,   0,   0,   0,   0,   0,   0,   0,   0,   0,   0,   0,\n",
       "          0,   0],\n",
       "       [  0,   0,   0,   0,   0,   0,   0,   0,   0,   0,   0,   0,  35,\n",
       "        241, 225, 160, 108,   1,   0,   0,   0,   0,   0,   0,   0,   0,\n",
       "          0,   0],\n",
       "       [  0,   0,   0,   0,   0,   0,   0,   0,   0,   0,   0,   0,   0,\n",
       "         81, 240, 253, 253, 119,  25,   0,   0,   0,   0,   0,   0,   0,\n",
       "          0,   0],\n",
       "       [  0,   0,   0,   0,   0,   0,   0,   0,   0,   0,   0,   0,   0,\n",
       "          0,  45, 186, 253, 253, 150,  27,   0,   0,   0,   0,   0,   0,\n",
       "          0,   0],\n",
       "       [  0,   0,   0,   0,   0,   0,   0,   0,   0,   0,   0,   0,   0,\n",
       "          0,   0,  16,  93, 252, 253, 187,   0,   0,   0,   0,   0,   0,\n",
       "          0,   0],\n",
       "       [  0,   0,   0,   0,   0,   0,   0,   0,   0,   0,   0,   0,   0,\n",
       "          0,   0,   0,   0, 249, 253, 249,  64,   0,   0,   0,   0,   0,\n",
       "          0,   0],\n",
       "       [  0,   0,   0,   0,   0,   0,   0,   0,   0,   0,   0,   0,   0,\n",
       "          0,  46, 130, 183, 253, 253, 207,   2,   0,   0,   0,   0,   0,\n",
       "          0,   0],\n",
       "       [  0,   0,   0,   0,   0,   0,   0,   0,   0,   0,   0,   0,  39,\n",
       "        148, 229, 253, 253, 253, 250, 182,   0,   0,   0,   0,   0,   0,\n",
       "          0,   0],\n",
       "       [  0,   0,   0,   0,   0,   0,   0,   0,   0,   0,  24, 114, 221,\n",
       "        253, 253, 253, 253, 201,  78,   0,   0,   0,   0,   0,   0,   0,\n",
       "          0,   0],\n",
       "       [  0,   0,   0,   0,   0,   0,   0,   0,  23,  66, 213, 253, 253,\n",
       "        253, 253, 198,  81,   2,   0,   0,   0,   0,   0,   0,   0,   0,\n",
       "          0,   0],\n",
       "       [  0,   0,   0,   0,   0,   0,  18, 171, 219, 253, 253, 253, 253,\n",
       "        195,  80,   9,   0,   0,   0,   0,   0,   0,   0,   0,   0,   0,\n",
       "          0,   0],\n",
       "       [  0,   0,   0,   0,  55, 172, 226, 253, 253, 253, 253, 244, 133,\n",
       "         11,   0,   0,   0,   0,   0,   0,   0,   0,   0,   0,   0,   0,\n",
       "          0,   0],\n",
       "       [  0,   0,   0,   0, 136, 253, 253, 253, 212, 135, 132,  16,   0,\n",
       "          0,   0,   0,   0,   0,   0,   0,   0,   0,   0,   0,   0,   0,\n",
       "          0,   0],\n",
       "       [  0,   0,   0,   0,   0,   0,   0,   0,   0,   0,   0,   0,   0,\n",
       "          0,   0,   0,   0,   0,   0,   0,   0,   0,   0,   0,   0,   0,\n",
       "          0,   0],\n",
       "       [  0,   0,   0,   0,   0,   0,   0,   0,   0,   0,   0,   0,   0,\n",
       "          0,   0,   0,   0,   0,   0,   0,   0,   0,   0,   0,   0,   0,\n",
       "          0,   0],\n",
       "       [  0,   0,   0,   0,   0,   0,   0,   0,   0,   0,   0,   0,   0,\n",
       "          0,   0,   0,   0,   0,   0,   0,   0,   0,   0,   0,   0,   0,\n",
       "          0,   0]], dtype=uint8)"
      ]
     },
     "execution_count": 6,
     "metadata": {},
     "output_type": "execute_result"
    }
   ],
   "source": [
    "X_train[0]"
   ]
  },
  {
   "cell_type": "code",
   "execution_count": 3,
   "id": "03d9ea1e",
   "metadata": {
    "colab": {
     "base_uri": "https://localhost:8080/"
    },
    "id": "m0hHUKoNMpsZ",
    "outputId": "09b0c168-0f4f-48a7-fea2-fc7793fa5e58"
   },
   "outputs": [
    {
     "data": {
      "text/plain": [
       "(10000, 28, 28)"
      ]
     },
     "execution_count": 3,
     "metadata": {},
     "output_type": "execute_result"
    }
   ],
   "source": [
    "X_test.shape"
   ]
  },
  {
   "cell_type": "code",
   "execution_count": 4,
   "id": "e44cea48",
   "metadata": {
    "colab": {
     "base_uri": "https://localhost:8080/"
    },
    "id": "skzwnglnMzl6",
    "outputId": "4946c5da-2151-4cb6-9a87-dc9dc439b852"
   },
   "outputs": [
    {
     "data": {
      "text/plain": [
       "array([5, 0, 4, ..., 5, 6, 8], dtype=uint8)"
      ]
     },
     "execution_count": 4,
     "metadata": {},
     "output_type": "execute_result"
    }
   ],
   "source": [
    "y_train"
   ]
  },
  {
   "cell_type": "code",
   "execution_count": 5,
   "id": "f3f8d777",
   "metadata": {
    "colab": {
     "base_uri": "https://localhost:8080/",
     "height": 448
    },
    "id": "jr2MuKsKRH5G",
    "outputId": "551450fa-fd71-4785-d2d6-d101f89fcb63"
   },
   "outputs": [
    {
     "data": {
      "text/plain": [
       "<matplotlib.image.AxesImage at 0x18393b2f7f0>"
      ]
     },
     "execution_count": 5,
     "metadata": {},
     "output_type": "execute_result"
    },
    {
     "data": {
      "image/png": "[encoded data removed]",
      "text/plain": [
       "<Figure size 640x480 with 1 Axes>"
      ]
     },
     "metadata": {},
     "output_type": "display_data"
    }
   ],
   "source": [
    "import matplotlib.pyplot as plt\n",
    "plt.imshow(X_train[2])"
   ]
  },
  {
   "cell_type": "markdown",
   "id": "9cbcc926",
   "metadata": {},
   "source": [
    "## Do the Standardization"
   ]
  },
  {
   "cell_type": "code",
   "execution_count": 6,
   "id": "e91aea21",
   "metadata": {
    "id": "dJmO2WLlRRT1"
   },
   "outputs": [],
   "source": [
    "X_train = X_train/255\n",
    "X_test = X_test/255"
   ]
  },
  {
   "cell_type": "code",
   "execution_count": 7,
   "id": "4a5aab36",
   "metadata": {
    "colab": {
     "base_uri": "https://localhost:8080/"
    },
    "id": "i1WA9FioRdtB",
    "outputId": "e7b91733-8df3-48ac-879e-fb98bfc353e6"
   },
   "outputs": [
    {
     "data": {
      "text/plain": [
       "array([[0.        , 0.        , 0.        , 0.        , 0.        ,\n",
       "        0.        , 0.        , 0.        , 0.        , 0.        ,\n",
       "        0.        , 0.        , 0.        , 0.        , 0.        ,\n",
       "        0.        , 0.        , 0.        , 0.        , 0.        ,\n",
       "        0.        , 0.        , 0.        , 0.        , 0.        ,\n",
       "        0.        , 0.        , 0.        ],\n",
       "       [0.        , 0.        , 0.        , 0.        , 0.        ,\n",
       "        0.        , 0.        , 0.        , 0.        , 0.        ,\n",
       "        0.        , 0.        , 0.        , 0.        , 0.        ,\n",
       "        0.        , 0.        , 0.        , 0.        , 0.        ,\n",
       "        0.        , 0.        , 0.        , 0.        , 0.        ,\n",
       "        0.        , 0.        , 0.        ],\n",
       "       [0.        , 0.        , 0.        , 0.        , 0.        ,\n",
       "        0.        , 0.        , 0.        , 0.        , 0.        ,\n",
       "        0.        , 0.        , 0.        , 0.        , 0.        ,\n",
       "        0.        , 0.        , 0.        , 0.        , 0.        ,\n",
       "        0.        , 0.        , 0.        , 0.        , 0.        ,\n",
       "        0.        , 0.        , 0.        ],\n",
       "       [0.        , 0.        , 0.        , 0.        , 0.        ,\n",
       "        0.        , 0.        , 0.        , 0.        , 0.        ,\n",
       "        0.        , 0.        , 0.        , 0.        , 0.        ,\n",
       "        0.        , 0.        , 0.        , 0.        , 0.        ,\n",
       "        0.        , 0.        , 0.        , 0.        , 0.        ,\n",
       "        0.        , 0.        , 0.        ],\n",
       "       [0.        , 0.        , 0.        , 0.        , 0.        ,\n",
       "        0.        , 0.        , 0.        , 0.        , 0.        ,\n",
       "        0.        , 0.        , 0.        , 0.        , 0.        ,\n",
       "        0.        , 0.        , 0.        , 0.        , 0.        ,\n",
       "        0.        , 0.        , 0.        , 0.        , 0.        ,\n",
       "        0.        , 0.        , 0.        ],\n",
       "       [0.        , 0.        , 0.        , 0.        , 0.        ,\n",
       "        0.        , 0.        , 0.        , 0.        , 0.        ,\n",
       "        0.        , 0.        , 0.01176471, 0.07058824, 0.07058824,\n",
       "        0.07058824, 0.49411765, 0.53333333, 0.68627451, 0.10196078,\n",
       "        0.65098039, 1.        , 0.96862745, 0.49803922, 0.        ,\n",
       "        0.        , 0.        , 0.        ],\n",
       "       [0.        , 0.        , 0.        , 0.        , 0.        ,\n",
       "        0.        , 0.        , 0.        , 0.11764706, 0.14117647,\n",
       "        0.36862745, 0.60392157, 0.66666667, 0.99215686, 0.99215686,\n",
       "        0.99215686, 0.99215686, 0.99215686, 0.88235294, 0.6745098 ,\n",
       "        0.99215686, 0.94901961, 0.76470588, 0.25098039, 0.        ,\n",
       "        0.        , 0.        , 0.        ],\n",
       "       [0.        , 0.        , 0.        , 0.        , 0.        ,\n",
       "        0.        , 0.        , 0.19215686, 0.93333333, 0.99215686,\n",
       "        0.99215686, 0.99215686, 0.99215686, 0.99215686, 0.99215686,\n",
       "        0.99215686, 0.99215686, 0.98431373, 0.36470588, 0.32156863,\n",
       "        0.32156863, 0.21960784, 0.15294118, 0.        , 0.        ,\n",
       "        0.        , 0.        , 0.        ],\n",
       "       [0.        , 0.        , 0.        , 0.        , 0.        ,\n",
       "        0.        , 0.        , 0.07058824, 0.85882353, 0.99215686,\n",
       "        0.99215686, 0.99215686, 0.99215686, 0.99215686, 0.77647059,\n",
       "        0.71372549, 0.96862745, 0.94509804, 0.        , 0.        ,\n",
       "        0.        , 0.        , 0.        , 0.        , 0.        ,\n",
       "        0.        , 0.        , 0.        ],\n",
       "       [0.        , 0.        , 0.        , 0.        , 0.        ,\n",
       "        0.        , 0.        , 0.        , 0.31372549, 0.61176471,\n",
       "        0.41960784, 0.99215686, 0.99215686, 0.80392157, 0.04313725,\n",
       "        0.        , 0.16862745, 0.60392157, 0.        , 0.        ,\n",
       "        0.        , 0.        , 0.        , 0.        , 0.        ,\n",
       "        0.        , 0.        , 0.        ],\n",
       "       [0.        , 0.        , 0.        , 0.        , 0.        ,\n",
       "        0.        , 0.        , 0.        , 0.        , 0.05490196,\n",
       "        0.00392157, 0.60392157, 0.99215686, 0.35294118, 0.        ,\n",
       "        0.        , 0.        , 0.        , 0.        , 0.        ,\n",
       "        0.        , 0.        , 0.        , 0.        , 0.        ,\n",
       "        0.        , 0.        , 0.        ],\n",
       "       [0.        , 0.        , 0.        , 0.        , 0.        ,\n",
       "        0.        , 0.        , 0.        , 0.        , 0.        ,\n",
       "        0.        , 0.54509804, 0.99215686, 0.74509804, 0.00784314,\n",
       "        0.        , 0.        , 0.        , 0.        , 0.        ,\n",
       "        0.        , 0.        , 0.        , 0.        , 0.        ,\n",
       "        0.        , 0.        , 0.        ],\n",
       "       [0.        , 0.        , 0.        , 0.        , 0.        ,\n",
       "        0.        , 0.        , 0.        , 0.        , 0.        ,\n",
       "        0.        , 0.04313725, 0.74509804, 0.99215686, 0.2745098 ,\n",
       "        0.        , 0.        , 0.        , 0.        , 0.        ,\n",
       "        0.        , 0.        , 0.        , 0.        , 0.        ,\n",
       "        0.        , 0.        , 0.        ],\n",
       "       [0.        , 0.        , 0.        , 0.        , 0.        ,\n",
       "        0.        , 0.        , 0.        , 0.        , 0.        ,\n",
       "        0.        , 0.        , 0.1372549 , 0.94509804, 0.88235294,\n",
       "        0.62745098, 0.42352941, 0.00392157, 0.        , 0.        ,\n",
       "        0.        , 0.        , 0.        , 0.        , 0.        ,\n",
       "        0.        , 0.        , 0.        ],\n",
       "       [0.        , 0.        , 0.        , 0.        , 0.        ,\n",
       "        0.        , 0.        , 0.        , 0.        , 0.        ,\n",
       "        0.        , 0.        , 0.        , 0.31764706, 0.94117647,\n",
       "        0.99215686, 0.99215686, 0.46666667, 0.09803922, 0.        ,\n",
       "        0.        , 0.        , 0.        , 0.        , 0.        ,\n",
       "        0.        , 0.        , 0.        ],\n",
       "       [0.        , 0.        , 0.        , 0.        , 0.        ,\n",
       "        0.        , 0.        , 0.        , 0.        , 0.        ,\n",
       "        0.        , 0.        , 0.        , 0.        , 0.17647059,\n",
       "        0.72941176, 0.99215686, 0.99215686, 0.58823529, 0.10588235,\n",
       "        0.        , 0.        , 0.        , 0.        , 0.        ,\n",
       "        0.        , 0.        , 0.        ],\n",
       "       [0.        , 0.        , 0.        , 0.        , 0.        ,\n",
       "        0.        , 0.        , 0.        , 0.        , 0.        ,\n",
       "        0.        , 0.        , 0.        , 0.        , 0.        ,\n",
       "        0.0627451 , 0.36470588, 0.98823529, 0.99215686, 0.73333333,\n",
       "        0.        , 0.        , 0.        , 0.        , 0.        ,\n",
       "        0.        , 0.        , 0.        ],\n",
       "       [0.        , 0.        , 0.        , 0.        , 0.        ,\n",
       "        0.        , 0.        , 0.        , 0.        , 0.        ,\n",
       "        0.        , 0.        , 0.        , 0.        , 0.        ,\n",
       "        0.        , 0.        , 0.97647059, 0.99215686, 0.97647059,\n",
       "        0.25098039, 0.        , 0.        , 0.        , 0.        ,\n",
       "        0.        , 0.        , 0.        ],\n",
       "       [0.        , 0.        , 0.        , 0.        , 0.        ,\n",
       "        0.        , 0.        , 0.        , 0.        , 0.        ,\n",
       "        0.        , 0.        , 0.        , 0.        , 0.18039216,\n",
       "        0.50980392, 0.71764706, 0.99215686, 0.99215686, 0.81176471,\n",
       "        0.00784314, 0.        , 0.        , 0.        , 0.        ,\n",
       "        0.        , 0.        , 0.        ],\n",
       "       [0.        , 0.        , 0.        , 0.        , 0.        ,\n",
       "        0.        , 0.        , 0.        , 0.        , 0.        ,\n",
       "        0.        , 0.        , 0.15294118, 0.58039216, 0.89803922,\n",
       "        0.99215686, 0.99215686, 0.99215686, 0.98039216, 0.71372549,\n",
       "        0.        , 0.        , 0.        , 0.        , 0.        ,\n",
       "        0.        , 0.        , 0.        ],\n",
       "       [0.        , 0.        , 0.        , 0.        , 0.        ,\n",
       "        0.        , 0.        , 0.        , 0.        , 0.        ,\n",
       "        0.09411765, 0.44705882, 0.86666667, 0.99215686, 0.99215686,\n",
       "        0.99215686, 0.99215686, 0.78823529, 0.30588235, 0.        ,\n",
       "        0.        , 0.        , 0.        , 0.        , 0.        ,\n",
       "        0.        , 0.        , 0.        ],\n",
       "       [0.        , 0.        , 0.        , 0.        , 0.        ,\n",
       "        0.        , 0.        , 0.        , 0.09019608, 0.25882353,\n",
       "        0.83529412, 0.99215686, 0.99215686, 0.99215686, 0.99215686,\n",
       "        0.77647059, 0.31764706, 0.00784314, 0.        , 0.        ,\n",
       "        0.        , 0.        , 0.        , 0.        , 0.        ,\n",
       "        0.        , 0.        , 0.        ],\n",
       "       [0.        , 0.        , 0.        , 0.        , 0.        ,\n",
       "        0.        , 0.07058824, 0.67058824, 0.85882353, 0.99215686,\n",
       "        0.99215686, 0.99215686, 0.99215686, 0.76470588, 0.31372549,\n",
       "        0.03529412, 0.        , 0.        , 0.        , 0.        ,\n",
       "        0.        , 0.        , 0.        , 0.        , 0.        ,\n",
       "        0.        , 0.        , 0.        ],\n",
       "       [0.        , 0.        , 0.        , 0.        , 0.21568627,\n",
       "        0.6745098 , 0.88627451, 0.99215686, 0.99215686, 0.99215686,\n",
       "        0.99215686, 0.95686275, 0.52156863, 0.04313725, 0.        ,\n",
       "        0.        , 0.        , 0.        , 0.        , 0.        ,\n",
       "        0.        , 0.        , 0.        , 0.        , 0.        ,\n",
       "        0.        , 0.        , 0.        ],\n",
       "       [0.        , 0.        , 0.        , 0.        , 0.53333333,\n",
       "        0.99215686, 0.99215686, 0.99215686, 0.83137255, 0.52941176,\n",
       "        0.51764706, 0.0627451 , 0.        , 0.        , 0.        ,\n",
       "        0.        , 0.        , 0.        , 0.        , 0.        ,\n",
       "        0.        , 0.        , 0.        , 0.        , 0.        ,\n",
       "        0.        , 0.        , 0.        ],\n",
       "       [0.        , 0.        , 0.        , 0.        , 0.        ,\n",
       "        0.        , 0.        , 0.        , 0.        , 0.        ,\n",
       "        0.        , 0.        , 0.        , 0.        , 0.        ,\n",
       "        0.        , 0.        , 0.        , 0.        , 0.        ,\n",
       "        0.        , 0.        , 0.        , 0.        , 0.        ,\n",
       "        0.        , 0.        , 0.        ],\n",
       "       [0.        , 0.        , 0.        , 0.        , 0.        ,\n",
       "        0.        , 0.        , 0.        , 0.        , 0.        ,\n",
       "        0.        , 0.        , 0.        , 0.        , 0.        ,\n",
       "        0.        , 0.        , 0.        , 0.        , 0.        ,\n",
       "        0.        , 0.        , 0.        , 0.        , 0.        ,\n",
       "        0.        , 0.        , 0.        ],\n",
       "       [0.        , 0.        , 0.        , 0.        , 0.        ,\n",
       "        0.        , 0.        , 0.        , 0.        , 0.        ,\n",
       "        0.        , 0.        , 0.        , 0.        , 0.        ,\n",
       "        0.        , 0.        , 0.        , 0.        , 0.        ,\n",
       "        0.        , 0.        , 0.        , 0.        , 0.        ,\n",
       "        0.        , 0.        , 0.        ]])"
      ]
     },
     "execution_count": 7,
     "metadata": {},
     "output_type": "execute_result"
    }
   ],
   "source": [
    "X_train[0]"
   ]
  },
  {
   "cell_type": "markdown",
   "id": "ae181536",
   "metadata": {},
   "source": [
    "## Create a  MLP model and add layers in it along with Activation functions"
   ]
  },
  {
   "cell_type": "code",
   "execution_count": 19,
   "id": "8f670c38",
   "metadata": {
    "id": "jr78UU88Rzm6"
   },
   "outputs": [],
   "source": [
    "ann = Sequential()\n",
    "\n",
    "ann.add(Flatten(input_shape=(28,28)))\n",
    "ann.add(Dense(12,activation='relu'))\n",
    "ann.add(Dense(6,activation='relu'))\n",
    "ann.add(Dense(10,activation='softmax'))"
   ]
  },
  {
   "cell_type": "markdown",
   "id": "e45db7ca",
   "metadata": {},
   "source": [
    "Lets observe model attributes"
   ]
  },
  {
   "cell_type": "code",
   "execution_count": 20,
   "id": "f63af4f9",
   "metadata": {
    "scrolled": false
   },
   "outputs": [
    {
     "data": {
      "text/plain": [
       "{'_self_setattr_tracking': True,\n",
       " '_obj_reference_counts_dict': ObjectIdentityDictionary({<_ObjectIdentityWrapper wrapping True>: 1, <_ObjectIdentityWrapper wrapping <keras.src.saving.serialization_lib.Config object at 0x000001839C1F2B30>>: 1}),\n",
       " '_auto_get_config': True,\n",
       " '_auto_config': <keras.src.saving.serialization_lib.Config at 0x1839c1f2b30>,\n",
       " '_is_model_for_instrumentation': True,\n",
       " '_instrumented_keras_api': True,\n",
       " '_instrumented_keras_layer_class': False,\n",
       " '_instrumented_keras_model_class': True,\n",
       " '_trainable': True,\n",
       " '_stateful': False,\n",
       " 'built': True,\n",
       " '_input_spec': None,\n",
       " '_build_input_shape': TensorShape([None, 28, 28]),\n",
       " '_saved_model_inputs_spec': TensorSpec(shape=(None, 28, 28), dtype=tf.float32, name='flatten_4_input'),\n",
       " '_saved_model_arg_spec': ([TensorSpec(shape=(None, 28, 28), dtype=tf.float32, name='flatten_4_input')],\n",
       "  {}),\n",
       " '_supports_masking': True,\n",
       " '_name': 'sequential_4',\n",
       " '_activity_regularizer': None,\n",
       " '_trainable_weights': [],\n",
       " '_non_trainable_weights': [],\n",
       " '_updates': [],\n",
       " '_thread_local': <_thread._local at 0x18399438450>,\n",
       " '_callable_losses': [],\n",
       " '_losses': [],\n",
       " '_metrics': [],\n",
       " '_metrics_lock': <unlocked _thread.lock object at 0x000001839838D480>,\n",
       " '_dtype_policy': <Policy \"float32\">,\n",
       " '_compute_dtype_object': tf.float32,\n",
       " '_autocast': False,\n",
       " '_self_tracked_trackables': [<keras.src.engine.input_layer.InputLayer at 0x1839c1f18a0>,\n",
       "  <keras.src.layers.reshaping.flatten.Flatten at 0x183993c80d0>,\n",
       "  <keras.src.layers.core.dense.Dense at 0x1839c20d870>,\n",
       "  <keras.src.layers.core.dense.Dense at 0x1839c1f3b50>,\n",
       "  <keras.src.layers.core.dense.Dense at 0x1839c1f3fa0>],\n",
       " '_inbound_nodes_value': [],\n",
       " '_outbound_nodes_value': [],\n",
       " '_call_spec': <keras.src.utils.layer_utils.CallFunctionSpec at 0x1839c1f16f0>,\n",
       " '_dynamic': False,\n",
       " '_initial_weights': None,\n",
       " '_auto_track_sub_layers': False,\n",
       " '_preserve_input_structure_in_config': False,\n",
       " '_name_scope_on_declaration': '',\n",
       " '_captured_weight_regularizer': [],\n",
       " '_is_graph_network': True,\n",
       " 'inputs': [<KerasTensor: shape=(None, 28, 28) dtype=float32 (created by layer 'flatten_4_input')>],\n",
       " 'outputs': [<KerasTensor: shape=(None, 10) dtype=float32 (created by layer 'dense_14')>],\n",
       " 'input_names': ['flatten_4_input'],\n",
       " 'output_names': ['dense_14'],\n",
       " 'stop_training': False,\n",
       " 'history': None,\n",
       " 'compiled_loss': None,\n",
       " 'compiled_metrics': None,\n",
       " '_compute_output_and_mask_jointly': True,\n",
       " '_is_compiled': False,\n",
       " 'optimizer': None,\n",
       " '_distribution_strategy': None,\n",
       " '_distribute_reduction_method': None,\n",
       " '_cluster_coordinator': None,\n",
       " '_run_eagerly': None,\n",
       " 'train_function': None,\n",
       " 'test_function': None,\n",
       " 'predict_function': None,\n",
       " 'train_tf_function': None,\n",
       " '_compiled_trainable_state': <WeakKeyDictionary at 0x1839c1f32b0>,\n",
       " '_training_state': None,\n",
       " '_self_unconditional_checkpoint_dependencies': [],\n",
       " '_self_unconditional_dependency_names': {},\n",
       " '_self_unconditional_deferred_dependencies': {},\n",
       " '_self_update_uid': -1,\n",
       " '_self_name_based_restores': set(),\n",
       " '_self_saveable_object_factories': {},\n",
       " '_checkpoint': <tensorflow.python.checkpoint.checkpoint.Checkpoint at 0x1839c1f3190>,\n",
       " '_steps_per_execution': None,\n",
       " '_steps_per_execution_tuner': None,\n",
       " '_autotune_steps_per_execution': False,\n",
       " '_layout_map': None,\n",
       " '_train_counter': <tf.Variable 'Variable:0' shape=() dtype=int64, numpy=0>,\n",
       " '_test_counter': <tf.Variable 'Variable:0' shape=() dtype=int64, numpy=0>,\n",
       " '_predict_counter': <tf.Variable 'Variable:0' shape=() dtype=int64, numpy=0>,\n",
       " '_base_model_initialized': True,\n",
       " '_jit_compile': None,\n",
       " '_inferred_input_shape': None,\n",
       " '_has_explicit_input_shape': True,\n",
       " '_input_dtype': None,\n",
       " '_layer_call_argspecs': {<keras.src.engine.input_layer.InputLayer at 0x1839c1f18a0>: FullArgSpec(args=['self', 'inputs'], varargs='args', varkw='kwargs', defaults=None, kwonlyargs=[], kwonlydefaults=None, annotations={}),\n",
       "  <keras.src.layers.reshaping.flatten.Flatten at 0x183993c80d0>: FullArgSpec(args=['self', 'inputs'], varargs=None, varkw=None, defaults=None, kwonlyargs=[], kwonlydefaults=None, annotations={}),\n",
       "  <keras.src.layers.core.dense.Dense at 0x1839c20d870>: FullArgSpec(args=['self', 'inputs'], varargs=None, varkw=None, defaults=None, kwonlyargs=[], kwonlydefaults=None, annotations={}),\n",
       "  <keras.src.layers.core.dense.Dense at 0x1839c1f3b50>: FullArgSpec(args=['self', 'inputs'], varargs=None, varkw=None, defaults=None, kwonlyargs=[], kwonlydefaults=None, annotations={}),\n",
       "  <keras.src.layers.core.dense.Dense at 0x1839c1f3fa0>: FullArgSpec(args=['self', 'inputs'], varargs=None, varkw=None, defaults=None, kwonlyargs=[], kwonlydefaults=None, annotations={})},\n",
       " '_created_nodes': set(),\n",
       " '_graph_initialized': True,\n",
       " '_use_legacy_deferred_behavior': False,\n",
       " '_nested_inputs': <KerasTensor: shape=(None, 28, 28) dtype=float32 (created by layer 'flatten_4_input')>,\n",
       " '_nested_outputs': <KerasTensor: shape=(None, 10) dtype=float32 (created by layer 'dense_14')>,\n",
       " '_enable_dict_to_input_mapping': True,\n",
       " '_input_layers': [<keras.src.engine.input_layer.InputLayer at 0x1839c1f18a0>],\n",
       " '_output_layers': [<keras.src.layers.core.dense.Dense at 0x1839c1f3fa0>],\n",
       " '_input_coordinates': [(<keras.src.engine.input_layer.InputLayer at 0x1839c1f18a0>,\n",
       "   0,\n",
       "   0)],\n",
       " '_output_coordinates': [(<keras.src.layers.core.dense.Dense at 0x1839c1f3fa0>,\n",
       "   0,\n",
       "   0)],\n",
       " '_output_mask_cache': {},\n",
       " '_output_tensor_cache': {},\n",
       " '_output_shape_cache': {},\n",
       " '_network_nodes': {'dense_12_ib-0',\n",
       "  'dense_13_ib-0',\n",
       "  'dense_14_ib-0',\n",
       "  'flatten_4_ib-0',\n",
       "  'flatten_4_input_ib-0'},\n",
       " '_nodes_by_depth': defaultdict(list,\n",
       "             {0: [<keras.src.engine.node.Node at 0x1839c1f1930>],\n",
       "              1: [<keras.src.engine.node.Node at 0x1839c1f2590>],\n",
       "              2: [<keras.src.engine.node.Node at 0x1839c1f3c70>],\n",
       "              3: [<keras.src.engine.node.Node at 0x1839596acb0>],\n",
       "              4: [<keras.src.engine.node.Node at 0x1839c1f3160>]}),\n",
       " '_feed_input_names': ['flatten_4_input'],\n",
       " '_feed_inputs': [<KerasTensor: shape=(None, 28, 28) dtype=float32 (created by layer 'flatten_4_input')>],\n",
       " '_feed_input_shapes': [(None, 28, 28)],\n",
       " '_tensor_usage_count': Counter({'1664771625584': 1,\n",
       "          '1664723746288': 1,\n",
       "          '1664771631680': 1,\n",
       "          '1664771628272': 1,\n",
       "          '1664771629568': 1})}"
      ]
     },
     "execution_count": 20,
     "metadata": {},
     "output_type": "execute_result"
    }
   ],
   "source": [
    "ann.__dict__"
   ]
  },
  {
   "cell_type": "code",
   "execution_count": 21,
   "id": "1f565a63",
   "metadata": {
    "colab": {
     "base_uri": "https://localhost:8080/"
    },
    "id": "ECogPfG5SmNI",
    "outputId": "d6478626-a942-432c-92cc-856e9cb0e59a",
    "scrolled": true
   },
   "outputs": [
    {
     "name": "stdout",
     "output_type": "stream",
     "text": [
      "Model: \"sequential_4\"\n",
      "_________________________________________________________________\n",
      " Layer (type)                Output Shape              Param #   \n",
      "=================================================================\n",
      " flatten_4 (Flatten)         (None, 784)               0         \n",
      "                                                                 \n",
      " dense_12 (Dense)            (None, 12)                9420      \n",
      "                                                                 \n",
      " dense_13 (Dense)            (None, 6)                 78        \n",
      "                                                                 \n",
      " dense_14 (Dense)            (None, 10)                70        \n",
      "                                                                 \n",
      "=================================================================\n",
      "Total params: 9568 (37.38 KB)\n",
      "Trainable params: 9568 (37.38 KB)\n",
      "Non-trainable params: 0 (0.00 Byte)\n",
      "_________________________________________________________________\n"
     ]
    }
   ],
   "source": [
    "ann.summary()"
   ]
  },
  {
   "cell_type": "markdown",
   "id": "3ea2c6f4",
   "metadata": {},
   "source": [
    "**Now, use loss fucntion and optimizer to update Weights and Biases while Training the MLP.**"
   ]
  },
  {
   "cell_type": "code",
   "execution_count": 22,
   "id": "e621f2ac",
   "metadata": {
    "id": "0yC51WgjSsLV"
   },
   "outputs": [],
   "source": [
    "ann.compile(loss='sparse_categorical_crossentropy',optimizer='Adam',metrics=['accuracy'])"
   ]
  },
  {
   "cell_type": "code",
   "execution_count": 23,
   "id": "c0018777",
   "metadata": {
    "colab": {
     "base_uri": "https://localhost:8080/"
    },
    "id": "L-fkwmIvWT8M",
    "outputId": "18eaeef9-9c17-4cae-b708-8f7787c86ed1"
   },
   "outputs": [
    {
     "name": "stdout",
     "output_type": "stream",
     "text": [
      "Epoch 1/25\n",
      "1500/1500 [==============================] - 4s 2ms/step - loss: 2.2615 - accuracy: 0.1706 - val_loss: 2.1146 - val_accuracy: 0.1807\n",
      "Epoch 2/25\n",
      "1500/1500 [==============================] - 3s 2ms/step - loss: 2.0176 - accuracy: 0.2088 - val_loss: 2.0118 - val_accuracy: 0.2072\n",
      "Epoch 3/25\n",
      "1500/1500 [==============================] - 3s 2ms/step - loss: 1.9884 - accuracy: 0.2090 - val_loss: 1.9963 - val_accuracy: 0.2125\n",
      "Epoch 4/25\n",
      "1500/1500 [==============================] - 3s 2ms/step - loss: 1.9768 - accuracy: 0.2122 - val_loss: 1.9875 - val_accuracy: 0.2087\n",
      "Epoch 5/25\n",
      "1500/1500 [==============================] - 3s 2ms/step - loss: 1.9378 - accuracy: 0.2313 - val_loss: 1.7242 - val_accuracy: 0.2921\n",
      "Epoch 6/25\n",
      "1500/1500 [==============================] - 3s 2ms/step - loss: 1.6166 - accuracy: 0.3130 - val_loss: 1.5622 - val_accuracy: 0.3314\n",
      "Epoch 7/25\n",
      "1500/1500 [==============================] - 3s 2ms/step - loss: 1.4899 - accuracy: 0.3852 - val_loss: 1.4009 - val_accuracy: 0.4259\n",
      "Epoch 8/25\n",
      "1500/1500 [==============================] - 3s 2ms/step - loss: 1.3491 - accuracy: 0.4632 - val_loss: 1.2443 - val_accuracy: 0.5331\n",
      "Epoch 9/25\n",
      "1500/1500 [==============================] - 3s 2ms/step - loss: 1.1468 - accuracy: 0.5558 - val_loss: 1.0658 - val_accuracy: 0.5583\n",
      "Epoch 10/25\n",
      "1500/1500 [==============================] - 3s 2ms/step - loss: 1.0571 - accuracy: 0.5855 - val_loss: 1.0136 - val_accuracy: 0.6099\n",
      "Epoch 11/25\n",
      "1500/1500 [==============================] - 3s 2ms/step - loss: 0.9973 - accuracy: 0.6144 - val_loss: 0.9849 - val_accuracy: 0.6342\n",
      "Epoch 12/25\n",
      "1500/1500 [==============================] - 3s 2ms/step - loss: 0.9312 - accuracy: 0.6511 - val_loss: 0.8613 - val_accuracy: 0.6836\n",
      "Epoch 13/25\n",
      "1500/1500 [==============================] - 3s 2ms/step - loss: 0.8247 - accuracy: 0.7013 - val_loss: 0.7925 - val_accuracy: 0.7231\n",
      "Epoch 14/25\n",
      "1500/1500 [==============================] - 3s 2ms/step - loss: 0.7707 - accuracy: 0.7271 - val_loss: 0.7678 - val_accuracy: 0.7582\n",
      "Epoch 15/25\n",
      "1500/1500 [==============================] - 3s 2ms/step - loss: 0.7329 - accuracy: 0.7512 - val_loss: 0.7356 - val_accuracy: 0.7639\n",
      "Epoch 16/25\n",
      "1500/1500 [==============================] - 4s 2ms/step - loss: 0.6893 - accuracy: 0.7786 - val_loss: 0.6708 - val_accuracy: 0.7912\n",
      "Epoch 17/25\n",
      "1500/1500 [==============================] - 3s 2ms/step - loss: 0.6386 - accuracy: 0.8056 - val_loss: 0.6442 - val_accuracy: 0.7988\n",
      "Epoch 18/25\n",
      "1500/1500 [==============================] - 3s 2ms/step - loss: 0.6063 - accuracy: 0.8180 - val_loss: 0.6248 - val_accuracy: 0.8156\n",
      "Epoch 19/25\n",
      "1500/1500 [==============================] - 3s 2ms/step - loss: 0.5768 - accuracy: 0.8286 - val_loss: 0.5812 - val_accuracy: 0.8292\n",
      "Epoch 20/25\n",
      "1500/1500 [==============================] - 3s 2ms/step - loss: 0.5568 - accuracy: 0.8370 - val_loss: 0.5619 - val_accuracy: 0.8370\n",
      "Epoch 21/25\n",
      "1500/1500 [==============================] - 3s 2ms/step - loss: 0.5397 - accuracy: 0.8430 - val_loss: 0.5266 - val_accuracy: 0.8466\n",
      "Epoch 22/25\n",
      "1500/1500 [==============================] - 3s 2ms/step - loss: 0.5177 - accuracy: 0.8509 - val_loss: 0.5139 - val_accuracy: 0.8525\n",
      "Epoch 23/25\n",
      "1500/1500 [==============================] - 3s 2ms/step - loss: 0.4993 - accuracy: 0.8555 - val_loss: 0.5123 - val_accuracy: 0.8531\n",
      "Epoch 24/25\n",
      "1500/1500 [==============================] - 3s 2ms/step - loss: 0.4868 - accuracy: 0.8594 - val_loss: 0.4858 - val_accuracy: 0.8603\n",
      "Epoch 25/25\n",
      "1500/1500 [==============================] - 4s 2ms/step - loss: 0.4704 - accuracy: 0.8667 - val_loss: 0.4989 - val_accuracy: 0.8647\n"
     ]
    }
   ],
   "source": [
    "history = ann.fit(X_train,y_train,epochs=25,validation_split=0.2)"
   ]
  },
  {
   "cell_type": "code",
   "execution_count": 24,
   "id": "2babd61a",
   "metadata": {
    "colab": {
     "base_uri": "https://localhost:8080/"
    },
    "id": "CazuknkLW_LY",
    "outputId": "a9711c64-9bb6-42fa-defb-f54ec6ef34e7"
   },
   "outputs": [
    {
     "name": "stdout",
     "output_type": "stream",
     "text": [
      "313/313 [==============================] - 1s 1ms/step\n"
     ]
    }
   ],
   "source": [
    "y_prob = ann.predict(X_test)"
   ]
  },
  {
   "cell_type": "markdown",
   "id": "0ee48555",
   "metadata": {},
   "source": [
    "**NOTE**: for Test or predictions we will use Argmax fucnction. we used Softmax for training to predicts the Probabilities But now as user we want classification not the Probability so using Argmax fucntion,"
   ]
  },
  {
   "cell_type": "code",
   "execution_count": 25,
   "id": "307cfe80",
   "metadata": {
    "id": "5nELQpFrXQIi"
   },
   "outputs": [],
   "source": [
    "y_pred = y_prob.argmax(axis=1)"
   ]
  },
  {
   "cell_type": "code",
   "execution_count": 26,
   "id": "f97d32cd",
   "metadata": {
    "colab": {
     "base_uri": "https://localhost:8080/"
    },
    "id": "jcyA9XVHXY6o",
    "outputId": "b66309dc-b1c5-42e0-f3ad-80ba9b3554f6"
   },
   "outputs": [
    {
     "data": {
      "text/plain": [
       "0.8626"
      ]
     },
     "execution_count": 26,
     "metadata": {},
     "output_type": "execute_result"
    }
   ],
   "source": [
    "from sklearn.metrics import accuracy_score\n",
    "accuracy_score(y_test,y_pred)"
   ]
  },
  {
   "cell_type": "code",
   "execution_count": 27,
   "id": "bc0dba93",
   "metadata": {
    "colab": {
     "base_uri": "https://localhost:8080/",
     "height": 451
    },
    "id": "NT2HxBnDXv_V",
    "outputId": "946f599d-640a-4912-e84f-faa39cdaea50"
   },
   "outputs": [
    {
     "data": {
      "text/plain": [
       "[<matplotlib.lines.Line2D at 0x1839fd4eb30>]"
      ]
     },
     "execution_count": 27,
     "metadata": {},
     "output_type": "execute_result"
    },
    {
     "data": {
      "image/png": "[encoded data removed]",
      "text/plain": [
       "<Figure size 640x480 with 1 Axes>"
      ]
     },
     "metadata": {},
     "output_type": "display_data"
    }
   ],
   "source": [
    "plt.plot(history.history['loss'])\n",
    "plt.plot(history.history['val_loss'])"
   ]
  },
  {
   "cell_type": "code",
   "execution_count": 28,
   "id": "e096ba84",
   "metadata": {
    "colab": {
     "base_uri": "https://localhost:8080/",
     "height": 448
    },
    "id": "Ln1DIjDOY8E7",
    "outputId": "767e366b-194f-4387-ab8d-6ed5a9e10ce4"
   },
   "outputs": [
    {
     "data": {
      "text/plain": [
       "[<matplotlib.lines.Line2D at 0x1839fde9480>]"
      ]
     },
     "execution_count": 28,
     "metadata": {},
     "output_type": "execute_result"
    },
    {
     "data": {
      "image/png": "[encoded data removed]",
      "text/plain": [
       "<Figure size 640x480 with 1 Axes>"
      ]
     },
     "metadata": {},
     "output_type": "display_data"
    }
   ],
   "source": [
    "plt.plot(history.history['accuracy'])\n",
    "plt.plot(history.history['val_accuracy'])"
   ]
  },
  {
   "cell_type": "code",
   "execution_count": 29,
   "id": "85ff71bf",
   "metadata": {
    "colab": {
     "base_uri": "https://localhost:8080/",
     "height": 448
    },
    "id": "F0eTtwmSZGQn",
    "outputId": "0f55d694-06e5-4ec1-b2af-9b140822f3a6"
   },
   "outputs": [
    {
     "data": {
      "text/plain": [
       "<matplotlib.image.AxesImage at 0x1839fe36da0>"
      ]
     },
     "execution_count": 29,
     "metadata": {},
     "output_type": "execute_result"
    },
    {
     "data": {
      "image/png": "[encoded data removed]",
      "text/plain": [
       "<Figure size 640x480 with 1 Axes>"
      ]
     },
     "metadata": {},
     "output_type": "display_data"
    }
   ],
   "source": [
    "plt.imshow(X_test[1])"
   ]
  },
  {
   "cell_type": "code",
   "execution_count": 30,
   "id": "31414196",
   "metadata": {
    "colab": {
     "base_uri": "https://localhost:8080/"
    },
    "id": "mBKWjIxealMY",
    "outputId": "f3d471ee-7020-4ac1-c47a-f1956fce0c75"
   },
   "outputs": [
    {
     "name": "stdout",
     "output_type": "stream",
     "text": [
      "1/1 [==============================] - 0s 24ms/step\n"
     ]
    },
    {
     "data": {
      "text/plain": [
       "array([2], dtype=int64)"
      ]
     },
     "execution_count": 30,
     "metadata": {},
     "output_type": "execute_result"
    }
   ],
   "source": [
    "ann.predict(X_test[1].reshape(1,28,28)).argmax(axis=1)"
   ]
  }
 ],
 "metadata": {
  "kernelspec": {
   "display_name": "Python 3 (ipykernel)",
   "language": "python",
   "name": "python3"
  },
  "language_info": {
   "codemirror_mode": {
    "name": "ipython",
    "version": 3
   },
   "file_extension": ".py",
   "mimetype": "text/x-python",
   "name": "python",
   "nbconvert_exporter": "python",
   "pygments_lexer": "ipython3",
   "version": "3.10.12"
  },
  "toc": {
   "base_numbering": 1,
   "nav_menu": {},
   "number_sections": true,
   "sideBar": true,
   "skip_h1_title": false,
   "title_cell": "Table of Contents",
   "title_sidebar": "Contents",
   "toc_cell": false,
   "toc_position": {
    "height": "calc(100% - 180px)",
    "left": "10px",
    "top": "150px",
    "width": "357.542px"
   },
   "toc_section_display": true,
   "toc_window_display": true
  }
 },
 "nbformat": 4,
 "nbformat_minor": 5
}
